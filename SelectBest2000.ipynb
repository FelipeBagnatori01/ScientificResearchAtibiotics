{
 "cells": [
  {
   "cell_type": "code",
   "execution_count": 1,
   "metadata": {},
   "outputs": [],
   "source": [
    "import os\n",
    "import shutil\n",
    "import glob\n",
    "from pathlib import Path\n",
    "\n",
    "def sort_csv_files(source_dir, output_base_dir, num_folders=16):\n",
    "    \"\"\"\n",
    "    Sort CSV files from source directory into a specified number of folders.\n",
    "    \n",
    "    Args:\n",
    "        source_dir (str): Directory containing CSV files\n",
    "        output_base_dir (str): Base directory for output folders\n",
    "        num_folders (int): Number of folders to create\n",
    "    \"\"\"\n",
    "    # Create output directories if they don't exist\n",
    "    output_dirs = []\n",
    "    for i in range(num_folders):\n",
    "        folder_name = f\"folder_{i+1}\"\n",
    "        folder_path = os.path.join(output_base_dir, folder_name)\n",
    "        os.makedirs(folder_path, exist_ok=True)\n",
    "        output_dirs.append(folder_path)\n",
    "    \n",
    "    # Get list of all CSV files\n",
    "    csv_files = glob.glob(os.path.join(source_dir, \"*.csv\"))\n",
    "    \n",
    "    # Verify files were found\n",
    "    total_files = len(csv_files)\n",
    "    if total_files == 0:\n",
    "        print(\"No CSV files found in the source directory.\")\n",
    "        return\n",
    "    \n",
    "    print(f\"Found {total_files} CSV files to distribute.\")\n",
    "    \n",
    "    # Calculate files per folder\n",
    "    files_per_folder = total_files // num_folders\n",
    "    remainder = total_files % num_folders\n",
    "    \n",
    "    # Distribute files evenly across folders\n",
    "    start_idx = 0\n",
    "    for i, folder in enumerate(output_dirs):\n",
    "        # Add one extra file to the first 'remainder' folders if division isn't even\n",
    "        extra = 1 if i < remainder else 0\n",
    "        end_idx = start_idx + files_per_folder + extra\n",
    "        \n",
    "        # Get the batch of files for this folder\n",
    "        folder_files = csv_files[start_idx:end_idx]\n",
    "        \n",
    "        # Copy each file to the destination folder\n",
    "        for file_path in folder_files:\n",
    "            file_name = os.path.basename(file_path)\n",
    "            dest_path = os.path.join(folder, file_name)\n",
    "            shutil.move(file_path, dest_path)\n",
    "            \n",
    "        print(f\"Copied {len(folder_files)} files to {folder}\")\n",
    "        start_idx = end_idx"
   ]
  },
  {
   "cell_type": "code",
   "execution_count": 2,
   "metadata": {},
   "outputs": [
    {
     "name": "stdout",
     "output_type": "stream",
     "text": [
      "Found 35223 CSV files to distribute.\n",
      "Copied 2202 files to ./Input/dados_teste/Separated_K10/folder_1\n",
      "Copied 2202 files to ./Input/dados_teste/Separated_K10/folder_2\n",
      "Copied 2202 files to ./Input/dados_teste/Separated_K10/folder_3\n",
      "Copied 2202 files to ./Input/dados_teste/Separated_K10/folder_4\n",
      "Copied 2202 files to ./Input/dados_teste/Separated_K10/folder_5\n",
      "Copied 2202 files to ./Input/dados_teste/Separated_K10/folder_6\n",
      "Copied 2202 files to ./Input/dados_teste/Separated_K10/folder_7\n",
      "Copied 2201 files to ./Input/dados_teste/Separated_K10/folder_8\n",
      "Copied 2201 files to ./Input/dados_teste/Separated_K10/folder_9\n",
      "Copied 2201 files to ./Input/dados_teste/Separated_K10/folder_10\n",
      "Copied 2201 files to ./Input/dados_teste/Separated_K10/folder_11\n",
      "Copied 2201 files to ./Input/dados_teste/Separated_K10/folder_12\n",
      "Copied 2201 files to ./Input/dados_teste/Separated_K10/folder_13\n",
      "Copied 2201 files to ./Input/dados_teste/Separated_K10/folder_14\n",
      "Copied 2201 files to ./Input/dados_teste/Separated_K10/folder_15\n",
      "Copied 2201 files to ./Input/dados_teste/Separated_K10/folder_16\n"
     ]
    }
   ],
   "source": [
    "source_directory = \"./Input/dados_teste/Kmers 10/counts_k10_csv\"\n",
    "output_directory = \"./Input/dados_teste/Separated_K10\"\n",
    "    \n",
    "sort_csv_files(source_directory, output_directory)"
   ]
  }
 ],
 "metadata": {
  "kernelspec": {
   "display_name": "base",
   "language": "python",
   "name": "python3"
  },
  "language_info": {
   "codemirror_mode": {
    "name": "ipython",
    "version": 3
   },
   "file_extension": ".py",
   "mimetype": "text/x-python",
   "name": "python",
   "nbconvert_exporter": "python",
   "pygments_lexer": "ipython3",
   "version": "3.11.8"
  }
 },
 "nbformat": 4,
 "nbformat_minor": 2
}
