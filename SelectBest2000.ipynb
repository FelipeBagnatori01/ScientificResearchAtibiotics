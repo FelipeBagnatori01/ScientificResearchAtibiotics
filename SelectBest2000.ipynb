{
 "cells": [
  {
   "cell_type": "code",
   "execution_count": 32,
   "metadata": {},
   "outputs": [],
   "source": [
    "import pandas as pd\n",
    "import os\n",
    "import shutil\n",
    "import glob\n",
    "import numpy as np\n",
    "import csv\n",
    "from pathlib import Path\n",
    "from sklearn.feature_selection import SelectKBest\n",
    "from sklearn.feature_selection import chi2\n"
   ]
  },
  {
   "cell_type": "code",
   "execution_count": 33,
   "metadata": {},
   "outputs": [
    {
     "data": {
      "text/plain": [
       "'tobramycin'"
      ]
     },
     "execution_count": 33,
     "metadata": {},
     "output_type": "execute_result"
    }
   ],
   "source": [
    "mic_dframe = pd.read_csv('./Input/dados_teste/MIC_modelo.csv')\n",
    "\n",
    "antibiotics = mic_dframe.columns[-18:]\n",
    "antibiotics = antibiotics.to_list()\n",
    "antibiotics.pop(2)\n",
    "antibiotics.pop(4)\n",
    "antibiotics.pop(5)\n",
    "antibiotics.pop(9)\n",
    "antibiotics.pop(12)"
   ]
  },
  {
   "cell_type": "code",
   "execution_count": 34,
   "metadata": {},
   "outputs": [],
   "source": [
    "\n",
    "\n",
    "def sort_csv_files(source_dir, output_base_dir, num_folders=16):\n",
    "    \"\"\"\n",
    "    Sort CSV files from source directory into a specified number of folders.\n",
    "    \n",
    "    Args:\n",
    "        source_dir (str): Directory containing CSV files\n",
    "        output_base_dir (str): Base directory for output folders\n",
    "        num_folders (int): Number of folders to create\n",
    "    \"\"\"\n",
    "    # Create output directories if they don't exist\n",
    "    output_dirs = []\n",
    "    for i in range(num_folders):\n",
    "        folder_name = f\"folder_{i+1}\"\n",
    "        folder_path = os.path.join(output_base_dir, folder_name)\n",
    "        os.makedirs(folder_path, exist_ok=True)\n",
    "        output_dirs.append(folder_path)\n",
    "    \n",
    "    # Get list of all CSV files\n",
    "    csv_files = glob.glob(os.path.join(source_dir, \"*.csv\"))\n",
    "    \n",
    "    # Verify files were found\n",
    "    total_files = len(csv_files)\n",
    "    if total_files == 0:\n",
    "        print(\"No CSV files found in the source directory.\")\n",
    "        return\n",
    "    \n",
    "    print(f\"Found {total_files} CSV files to distribute.\")\n",
    "    \n",
    "    # Calculate files per folder\n",
    "    files_per_folder = total_files // num_folders\n",
    "    remainder = total_files % num_folders\n",
    "    \n",
    "    # Distribute files evenly across folders\n",
    "    start_idx = 0\n",
    "    for i, folder in enumerate(output_dirs):\n",
    "        # Add one extra file to the first 'remainder' folders if division isn't even\n",
    "        extra = 1 if i < remainder else 0\n",
    "        end_idx = start_idx + files_per_folder + extra\n",
    "        \n",
    "        # Get the batch of files for this folder\n",
    "        folder_files = csv_files[start_idx:end_idx]\n",
    "        \n",
    "        # Copy each file to the destination folder\n",
    "        for file_path in folder_files:\n",
    "            file_name = os.path.basename(file_path)\n",
    "            dest_path = os.path.join(folder, file_name)\n",
    "            shutil.move(file_path, dest_path)\n",
    "            \n",
    "        print(f\"Copied {len(folder_files)} files to {folder}\")\n",
    "        start_idx = end_idx"
   ]
  },
  {
   "cell_type": "code",
   "execution_count": 35,
   "metadata": {},
   "outputs": [
    {
     "name": "stdout",
     "output_type": "stream",
     "text": [
      "No CSV files found in the source directory.\n"
     ]
    }
   ],
   "source": [
    "source_directory = \"./Input/dados_teste/Kmers 10/counts_k10_csv\"\n",
    "output_directory = \"./Input/dados_teste/Separated_K10\"\n",
    "    \n",
    "sort_csv_files(source_directory, output_directory)"
   ]
  },
  {
   "cell_type": "code",
   "execution_count": 36,
   "metadata": {},
   "outputs": [],
   "source": [
    "\n",
    "def csv_to_nparray(path):\n",
    "    values = []\n",
    "    with open(path, \"r\") as f:\n",
    "        reader = csv.reader(f)\n",
    "        for row in reader:\n",
    "            values.append([int(i) for i in row])\n",
    "        f.close()\n",
    "    \n",
    "    return np.asarray(values[0])\n",
    "\n",
    "def best_N_features(target_df, antibiotic, N):\n",
    "    genome_ids = target_df['Gene_ID'].loc[pd.notnull(target_df[antibiotic])].values\n",
    "    folder_path = './Input/dados_teste/Separated_K10/folder_1/'\n",
    "    final_list = []\n",
    "    for csv_path in genome_ids:\n",
    "        csv_path = csv_path + '.csv'\n",
    "        temp_path = os.path.join(folder_path, csv_path)\n",
    "        result = csv_to_nparray(temp_path)\n",
    "        final_list.append(result)\n",
    "    X = np.asarray(final_list)\n",
    "    y = target_df[antibiotic].loc[pd.notnull(target_df[antibiotic])].values\n",
    "    n_best = SelectKBest(chi2, k=N)\n",
    "    X_new = n_best.fit_transform(X, y*10**5)\n",
    "    kmers = np.load('./Input/8-mers/kmers_basis.npy')\n",
    "    selected_kmers = []\n",
    "    n_best_selected = n_best.get_support()\n",
    "    for i in range(0, len(n_best_selected)):\n",
    "        if n_best_selected[i]:\n",
    "            selected_kmers.append(kmers[i])\n",
    "    best_feature_df = pd.DataFrame(X_new, columns = selected_kmers)\n",
    "    \n",
    "    return best_feature_df"
   ]
  },
  {
   "cell_type": "code",
   "execution_count": 37,
   "metadata": {},
   "outputs": [
    {
     "ename": "FileNotFoundError",
     "evalue": "[Errno 2] No such file or directory: './Input/dados_teste/Separated_K10/folder_1/573.66212.con.0001.csv'",
     "output_type": "error",
     "traceback": [
      "\u001b[0;31m---------------------------------------------------------------------------\u001b[0m",
      "\u001b[0;31mFileNotFoundError\u001b[0m                         Traceback (most recent call last)",
      "Cell \u001b[0;32mIn[37], line 1\u001b[0m\n\u001b[0;32m----> 1\u001b[0m kmer_dframe \u001b[38;5;241m=\u001b[39m \u001b[43mbest_N_features\u001b[49m\u001b[43m(\u001b[49m\u001b[43mtarget_df\u001b[49m\u001b[38;5;241;43m=\u001b[39;49m\u001b[43mmic_dframe\u001b[49m\u001b[43m,\u001b[49m\u001b[43m \u001b[49m\u001b[43mantibiotic\u001b[49m\u001b[38;5;241;43m=\u001b[39;49m\u001b[43mantibiotics\u001b[49m\u001b[43m[\u001b[49m\u001b[38;5;241;43m0\u001b[39;49m\u001b[43m]\u001b[49m\u001b[43m,\u001b[49m\u001b[43m \u001b[49m\u001b[43mN\u001b[49m\u001b[38;5;241;43m=\u001b[39;49m\u001b[38;5;241;43m2000\u001b[39;49m\u001b[43m)\u001b[49m\n\u001b[1;32m      3\u001b[0m X \u001b[38;5;241m=\u001b[39m kmer_dframe\u001b[38;5;241m.\u001b[39mvalues\n",
      "Cell \u001b[0;32mIn[36], line 18\u001b[0m, in \u001b[0;36mbest_N_features\u001b[0;34m(target_df, antibiotic, N)\u001b[0m\n\u001b[1;32m     16\u001b[0m     csv_path \u001b[38;5;241m=\u001b[39m csv_path \u001b[38;5;241m+\u001b[39m \u001b[38;5;124m'\u001b[39m\u001b[38;5;124m.csv\u001b[39m\u001b[38;5;124m'\u001b[39m\n\u001b[1;32m     17\u001b[0m     temp_path \u001b[38;5;241m=\u001b[39m os\u001b[38;5;241m.\u001b[39mpath\u001b[38;5;241m.\u001b[39mjoin(folder_path, csv_path)\n\u001b[0;32m---> 18\u001b[0m     result \u001b[38;5;241m=\u001b[39m \u001b[43mcsv_to_nparray\u001b[49m\u001b[43m(\u001b[49m\u001b[43mtemp_path\u001b[49m\u001b[43m)\u001b[49m\n\u001b[1;32m     19\u001b[0m     final_list\u001b[38;5;241m.\u001b[39mappend(result)\n\u001b[1;32m     20\u001b[0m X \u001b[38;5;241m=\u001b[39m np\u001b[38;5;241m.\u001b[39masarray(final_list)\n",
      "Cell \u001b[0;32mIn[36], line 3\u001b[0m, in \u001b[0;36mcsv_to_nparray\u001b[0;34m(path)\u001b[0m\n\u001b[1;32m      1\u001b[0m \u001b[38;5;28;01mdef\u001b[39;00m \u001b[38;5;21mcsv_to_nparray\u001b[39m(path):\n\u001b[1;32m      2\u001b[0m     values \u001b[38;5;241m=\u001b[39m []\n\u001b[0;32m----> 3\u001b[0m     \u001b[38;5;28;01mwith\u001b[39;00m \u001b[38;5;28;43mopen\u001b[39;49m\u001b[43m(\u001b[49m\u001b[43mpath\u001b[49m\u001b[43m,\u001b[49m\u001b[43m \u001b[49m\u001b[38;5;124;43m\"\u001b[39;49m\u001b[38;5;124;43mr\u001b[39;49m\u001b[38;5;124;43m\"\u001b[39;49m\u001b[43m)\u001b[49m \u001b[38;5;28;01mas\u001b[39;00m f:\n\u001b[1;32m      4\u001b[0m         reader \u001b[38;5;241m=\u001b[39m csv\u001b[38;5;241m.\u001b[39mreader(f)\n\u001b[1;32m      5\u001b[0m         \u001b[38;5;28;01mfor\u001b[39;00m row \u001b[38;5;129;01min\u001b[39;00m reader:\n",
      "File \u001b[0;32m/Applications/miniconda3/lib/python3.11/site-packages/IPython/core/interactiveshell.py:324\u001b[0m, in \u001b[0;36m_modified_open\u001b[0;34m(file, *args, **kwargs)\u001b[0m\n\u001b[1;32m    317\u001b[0m \u001b[38;5;28;01mif\u001b[39;00m file \u001b[38;5;129;01min\u001b[39;00m {\u001b[38;5;241m0\u001b[39m, \u001b[38;5;241m1\u001b[39m, \u001b[38;5;241m2\u001b[39m}:\n\u001b[1;32m    318\u001b[0m     \u001b[38;5;28;01mraise\u001b[39;00m \u001b[38;5;167;01mValueError\u001b[39;00m(\n\u001b[1;32m    319\u001b[0m         \u001b[38;5;124mf\u001b[39m\u001b[38;5;124m\"\u001b[39m\u001b[38;5;124mIPython won\u001b[39m\u001b[38;5;124m'\u001b[39m\u001b[38;5;124mt let you open fd=\u001b[39m\u001b[38;5;132;01m{\u001b[39;00mfile\u001b[38;5;132;01m}\u001b[39;00m\u001b[38;5;124m by default \u001b[39m\u001b[38;5;124m\"\u001b[39m\n\u001b[1;32m    320\u001b[0m         \u001b[38;5;124m\"\u001b[39m\u001b[38;5;124mas it is likely to crash IPython. If you know what you are doing, \u001b[39m\u001b[38;5;124m\"\u001b[39m\n\u001b[1;32m    321\u001b[0m         \u001b[38;5;124m\"\u001b[39m\u001b[38;5;124myou can use builtins\u001b[39m\u001b[38;5;124m'\u001b[39m\u001b[38;5;124m open.\u001b[39m\u001b[38;5;124m\"\u001b[39m\n\u001b[1;32m    322\u001b[0m     )\n\u001b[0;32m--> 324\u001b[0m \u001b[38;5;28;01mreturn\u001b[39;00m \u001b[43mio_open\u001b[49m\u001b[43m(\u001b[49m\u001b[43mfile\u001b[49m\u001b[43m,\u001b[49m\u001b[43m \u001b[49m\u001b[38;5;241;43m*\u001b[39;49m\u001b[43margs\u001b[49m\u001b[43m,\u001b[49m\u001b[43m \u001b[49m\u001b[38;5;241;43m*\u001b[39;49m\u001b[38;5;241;43m*\u001b[39;49m\u001b[43mkwargs\u001b[49m\u001b[43m)\u001b[49m\n",
      "\u001b[0;31mFileNotFoundError\u001b[0m: [Errno 2] No such file or directory: './Input/dados_teste/Separated_K10/folder_1/573.66212.con.0001.csv'"
     ]
    }
   ],
   "source": [
    "kmer_dframe = best_N_features(target_df=mic_dframe, antibiotic=antibiotics[0], N=2000)\n",
    "\n",
    "X = kmer_dframe.values"
   ]
  }
 ],
 "metadata": {
  "kernelspec": {
   "display_name": "base",
   "language": "python",
   "name": "python3"
  },
  "language_info": {
   "codemirror_mode": {
    "name": "ipython",
    "version": 3
   },
   "file_extension": ".py",
   "mimetype": "text/x-python",
   "name": "python",
   "nbconvert_exporter": "python",
   "pygments_lexer": "ipython3",
   "version": "3.11.8"
  }
 },
 "nbformat": 4,
 "nbformat_minor": 2
}
