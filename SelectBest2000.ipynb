{
 "cells": [
  {
   "cell_type": "code",
   "execution_count": 1,
   "metadata": {},
   "outputs": [],
   "source": [
    "import pandas as pd\n",
    "import os\n",
    "import shutil\n",
    "import glob\n",
    "import numpy as np\n",
    "import csv\n",
    "from pathlib import Path\n",
    "from sklearn.feature_selection import SelectKBest\n",
    "from sklearn.feature_selection import chi2\n"
   ]
  },
  {
   "cell_type": "code",
   "execution_count": 2,
   "metadata": {},
   "outputs": [
    {
     "data": {
      "text/plain": [
       "'tobramycin'"
      ]
     },
     "execution_count": 2,
     "metadata": {},
     "output_type": "execute_result"
    }
   ],
   "source": [
    "mic_dframe = pd.read_csv('./Input/dados_teste/MIC_modelo.csv')\n",
    "\n",
    "antibiotics = mic_dframe.columns[-18:]\n",
    "antibiotics = antibiotics.to_list()\n",
    "antibiotics.pop(2)\n",
    "antibiotics.pop(4)\n",
    "antibiotics.pop(5)\n",
    "antibiotics.pop(9)\n",
    "antibiotics.pop(12)"
   ]
  },
  {
   "cell_type": "code",
   "execution_count": 34,
   "metadata": {},
   "outputs": [],
   "source": [
    "\n",
    "\n",
    "def sort_csv_files(source_dir, output_base_dir, num_folders=16):\n",
    "    \"\"\"\n",
    "    Sort CSV files from source directory into a specified number of folders.\n",
    "    \n",
    "    Args:\n",
    "        source_dir (str): Directory containing CSV files\n",
    "        output_base_dir (str): Base directory for output folders\n",
    "        num_folders (int): Number of folders to create\n",
    "    \"\"\"\n",
    "    # Create output directories if they don't exist\n",
    "    output_dirs = []\n",
    "    for i in range(num_folders):\n",
    "        folder_name = f\"folder_{i+1}\"\n",
    "        folder_path = os.path.join(output_base_dir, folder_name)\n",
    "        os.makedirs(folder_path, exist_ok=True)\n",
    "        output_dirs.append(folder_path)\n",
    "    \n",
    "    # Get list of all CSV files\n",
    "    csv_files = glob.glob(os.path.join(source_dir, \"*.csv\"))\n",
    "    \n",
    "    # Verify files were found\n",
    "    total_files = len(csv_files)\n",
    "    if total_files == 0:\n",
    "        print(\"No CSV files found in the source directory.\")\n",
    "        return\n",
    "    \n",
    "    print(f\"Found {total_files} CSV files to distribute.\")\n",
    "    \n",
    "    # Calculate files per folder\n",
    "    files_per_folder = total_files // num_folders\n",
    "    remainder = total_files % num_folders\n",
    "    \n",
    "    # Distribute files evenly across folders\n",
    "    start_idx = 0\n",
    "    for i, folder in enumerate(output_dirs):\n",
    "        # Add one extra file to the first 'remainder' folders if division isn't even\n",
    "        extra = 1 if i < remainder else 0\n",
    "        end_idx = start_idx + files_per_folder + extra\n",
    "        \n",
    "        # Get the batch of files for this folder\n",
    "        folder_files = csv_files[start_idx:end_idx]\n",
    "        \n",
    "        # Copy each file to the destination folder\n",
    "        for file_path in folder_files:\n",
    "            file_name = os.path.basename(file_path)\n",
    "            dest_path = os.path.join(folder, file_name)\n",
    "            shutil.move(file_path, dest_path)\n",
    "            \n",
    "        print(f\"Copied {len(folder_files)} files to {folder}\")\n",
    "        start_idx = end_idx"
   ]
  },
  {
   "cell_type": "code",
   "execution_count": 35,
   "metadata": {},
   "outputs": [
    {
     "name": "stdout",
     "output_type": "stream",
     "text": [
      "No CSV files found in the source directory.\n"
     ]
    }
   ],
   "source": [
    "source_directory = \"./Input/dados_teste/Kmers 10/counts_k10_csv\"\n",
    "output_directory = \"./Input/dados_teste/Separated_K10\"\n",
    "    \n",
    "sort_csv_files(source_directory, output_directory)"
   ]
  },
  {
   "cell_type": "code",
   "execution_count": null,
   "metadata": {},
   "outputs": [],
   "source": [
    "\n",
    "def csv_to_nparray(path):\n",
    "    values = []\n",
    "    with open(path, \"r\") as f:\n",
    "        reader = csv.reader(f)\n",
    "        for row in reader:\n",
    "            values.append([int(i) for i in row])\n",
    "        f.close()\n",
    "    \n",
    "    return np.asarray(values[0])\n",
    "\n",
    "def best_N_features(target_df, antibiotic, N):\n",
    "    genome_ids = target_df['Gene_ID'].loc[pd.notnull(target_df[antibiotic])].values\n",
    "    folder_path = './Input/dados_teste/Separated_K10/folder_1/'\n",
    "    final_list = []\n",
    "    for csv_path in genome_ids:\n",
    "        csv_path = csv_path + '.csv'\n",
    "        temp_path = os.path.join(folder_path, csv_path)\n",
    "        result = csv_to_nparray(temp_path)\n",
    "        final_list.append(result)\n",
    "    X = np.asarray(final_list)\n",
    "    y = target_df[antibiotic].loc[pd.notnull(target_df[antibiotic])].values\n",
    "    n_best = SelectKBest(chi2, k=N)\n",
    "    X_new = n_best.fit_transform(X, y*10**5)\n",
    "    kmers = np.load('./Input/dados_teste/Kmers 10/combinations_10.txt')\n",
    "    selected_kmers = []\n",
    "    n_best_selected = n_best.get_support()\n",
    "    for i in range(0, len(n_best_selected)):\n",
    "        if n_best_selected[i]:\n",
    "            selected_kmers.append(kmers[i])\n",
    "    best_feature_df = pd.DataFrame(X_new, columns = selected_kmers)\n",
    "    \n",
    "    return best_feature_df\n",
    "\n",
    "\n",
    "def best_N_features_modified(target_df, antibiotic, N):\n",
    "    folder_path = './Input/dados_teste/Separated_K10/folder_1/'\n",
    "    genome_ids = os.listdir(folder_path)\n",
    "    final_list = []\n",
    "    count = 0\n",
    "    # for csv_path in genome_ids:\n",
    "    #     temp_path = os.path.join(folder_path, csv_path)\n",
    "    #     result = csv_to_nparray(temp_path)\n",
    "    #     final_list.append(result)\n",
    "    #     count += 1\n",
    "    #     print(count)\n",
    "    # print(\"Finished part 1\")\n",
    "    # X = np.asarray(final_list)\n",
    "    for gene in range(len(genome_ids)):\n",
    "        genome_ids[gene], _ = genome_ids[gene].split(\".csv\")\n",
    "    y = target_df[antibiotic].loc[genome_ids].values\n",
    "    n_best = SelectKBest(chi2, k=N)\n",
    "    X_new = n_best.fit_transform(X, y*10**5)\n",
    "    kmers = np.load('./Input/dados_teste/Kmers 10/combinations_10.txt')\n",
    "    selected_kmers = []\n",
    "    n_best_selected = n_best.get_support()\n",
    "    print(\"Entered part 2\")\n",
    "    for i in range(0, len(n_best_selected)):\n",
    "        if n_best_selected[i]:\n",
    "            selected_kmers.append(kmers[i])\n",
    "    best_feature_df = pd.DataFrame(X_new, columns = selected_kmers)\n",
    "    print(\"Finished part 2\")\n",
    "    \n",
    "    return best_feature_df"
   ]
  },
  {
   "cell_type": "code",
   "execution_count": 18,
   "metadata": {},
   "outputs": [
    {
     "ename": "UnboundLocalError",
     "evalue": "cannot access local variable 'i' where it is not associated with a value",
     "output_type": "error",
     "traceback": [
      "\u001b[0;31m---------------------------------------------------------------------------\u001b[0m",
      "\u001b[0;31mUnboundLocalError\u001b[0m                         Traceback (most recent call last)",
      "Cell \u001b[0;32mIn[18], line 1\u001b[0m\n\u001b[0;32m----> 1\u001b[0m kmer_dframe \u001b[38;5;241m=\u001b[39m \u001b[43mbest_N_features_modified\u001b[49m\u001b[43m(\u001b[49m\u001b[43mtarget_df\u001b[49m\u001b[38;5;241;43m=\u001b[39;49m\u001b[43mmic_dframe\u001b[49m\u001b[43m,\u001b[49m\u001b[43m \u001b[49m\u001b[43mantibiotic\u001b[49m\u001b[38;5;241;43m=\u001b[39;49m\u001b[43mantibiotics\u001b[49m\u001b[43m[\u001b[49m\u001b[38;5;241;43m0\u001b[39;49m\u001b[43m]\u001b[49m\u001b[43m,\u001b[49m\u001b[43m \u001b[49m\u001b[43mN\u001b[49m\u001b[38;5;241;43m=\u001b[39;49m\u001b[38;5;241;43m200\u001b[39;49m\u001b[43m)\u001b[49m\n\u001b[1;32m      3\u001b[0m X \u001b[38;5;241m=\u001b[39m kmer_dframe\u001b[38;5;241m.\u001b[39mvalues\n",
      "Cell \u001b[0;32mIn[17], line 50\u001b[0m, in \u001b[0;36mbest_N_features_modified\u001b[0;34m(target_df, antibiotic, N)\u001b[0m\n\u001b[1;32m     48\u001b[0m \u001b[38;5;28;01mfor\u001b[39;00m gene \u001b[38;5;129;01min\u001b[39;00m \u001b[38;5;28mrange\u001b[39m(\u001b[38;5;28mlen\u001b[39m(genome_ids)):\n\u001b[1;32m     49\u001b[0m     genome_ids[gene], _ \u001b[38;5;241m=\u001b[39m genome_ids[gene]\u001b[38;5;241m.\u001b[39msplit(\u001b[38;5;124m\"\u001b[39m\u001b[38;5;124m.csv\u001b[39m\u001b[38;5;124m\"\u001b[39m)\n\u001b[0;32m---> 50\u001b[0m y \u001b[38;5;241m=\u001b[39m target_df[antibiotic]\u001b[38;5;241m.\u001b[39mloc[ pd\u001b[38;5;241m.\u001b[39mnotnull(target_df[antibiotic][\u001b[43mi\u001b[49m]) \u001b[38;5;241m==\u001b[39m genome_ids[i]]\u001b[38;5;241m.\u001b[39mvalues\n\u001b[1;32m     51\u001b[0m n_best \u001b[38;5;241m=\u001b[39m SelectKBest(chi2, k\u001b[38;5;241m=\u001b[39mN)\n\u001b[1;32m     52\u001b[0m X_new \u001b[38;5;241m=\u001b[39m n_best\u001b[38;5;241m.\u001b[39mfit_transform(X, y\u001b[38;5;241m*\u001b[39m\u001b[38;5;241m10\u001b[39m\u001b[38;5;241m*\u001b[39m\u001b[38;5;241m*\u001b[39m\u001b[38;5;241m5\u001b[39m)\n",
      "\u001b[0;31mUnboundLocalError\u001b[0m: cannot access local variable 'i' where it is not associated with a value"
     ]
    }
   ],
   "source": [
    "kmer_dframe = best_N_features_modified(target_df=mic_dframe, antibiotic=antibiotics[0], N=200)\n",
    "\n",
    "X = kmer_dframe.values"
   ]
  }
 ],
 "metadata": {
  "kernelspec": {
   "display_name": "base",
   "language": "python",
   "name": "python3"
  },
  "language_info": {
   "codemirror_mode": {
    "name": "ipython",
    "version": 3
   },
   "file_extension": ".py",
   "mimetype": "text/x-python",
   "name": "python",
   "nbconvert_exporter": "python",
   "pygments_lexer": "ipython3",
   "version": "3.11.8"
  }
 },
 "nbformat": 4,
 "nbformat_minor": 2
}
