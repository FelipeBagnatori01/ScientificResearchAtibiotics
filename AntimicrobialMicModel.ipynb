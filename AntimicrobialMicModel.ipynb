{
 "cells": [
  {
   "cell_type": "code",
   "execution_count": 3,
   "metadata": {},
   "outputs": [
    {
     "name": "stdout",
     "output_type": "stream",
     "text": [
      "        Genome ID  ciprofloxacin  trimethoprim/sulfamethoxazole  ceftriaxone  \\\n",
      "0       590.17802        0.01560                          0.125         0.25   \n",
      "1       590.13932            NaN                            NaN          NaN   \n",
      "2       54388.286        0.03120                            NaN          NaN   \n",
      "3       590.14003        0.01560                          0.125         0.25   \n",
      "4       590.13436            NaN                            NaN          NaN   \n",
      "...           ...            ...                            ...          ...   \n",
      "18213  28901.8277            NaN                            NaN          NaN   \n",
      "18214   590.14758            NaN                            NaN          NaN   \n",
      "18215   590.12655            NaN                            NaN          NaN   \n",
      "18216   590.15152            NaN                            NaN          NaN   \n",
      "18217   590.14487        0.00781                          0.125         0.25   \n",
      "\n",
      "       gentamicin  ceftiofur  ampicillin  amoxicillin/clavulanic acid  \\\n",
      "0             NaN        0.5         1.0                          1.0   \n",
      "1             NaN        8.0        32.0                         32.0   \n",
      "2             NaN        NaN         NaN                          NaN   \n",
      "3             NaN        1.0         1.0                          1.0   \n",
      "4             NaN        NaN         NaN                         16.0   \n",
      "...           ...        ...         ...                          ...   \n",
      "18213        1.00        NaN         NaN                          8.0   \n",
      "18214         NaN        NaN         NaN                          NaN   \n",
      "18215        0.50        NaN         NaN                          NaN   \n",
      "18216        0.50        NaN         NaN                          NaN   \n",
      "18217        0.25        0.5         1.0                          1.0   \n",
      "\n",
      "       cefoxitin  nalidixic acid  tetracycline  chloramphenicol  sulfisoxazole  \n",
      "0            2.0             4.0           4.0              4.0            NaN  \n",
      "1            NaN             NaN          32.0              NaN          256.0  \n",
      "2            NaN             NaN           NaN              NaN            NaN  \n",
      "3            2.0             4.0           4.0              4.0            NaN  \n",
      "4            NaN             NaN           NaN              NaN            NaN  \n",
      "...          ...             ...           ...              ...            ...  \n",
      "18213        NaN             NaN           NaN              NaN            NaN  \n",
      "18214        NaN             NaN           NaN              NaN           64.0  \n",
      "18215        NaN             NaN           NaN              NaN           32.0  \n",
      "18216        4.0             NaN           NaN              NaN            NaN  \n",
      "18217        2.0             2.0           4.0              4.0            NaN  \n",
      "\n",
      "[18218 rows x 13 columns]\n"
     ]
    }
   ],
   "source": [
    "# Load from pkl files\n",
    "import pandas as pd\n",
    "import pickle\n",
    "\n",
    "\n",
    "with open('./Input/8-mers/mic_dframe.pkl', 'rb') as file:\n",
    "    mic_dframe = pickle.load(file)\n",
    "with open('./Input/8-mers/suscep_classes.pkl', 'rb') as file:\n",
    "    suscep_classes = pd.read_pickle(file)\n",
    "    \n",
    "print(mic_dframe)"
   ]
  },
  {
   "cell_type": "code",
   "execution_count": 13,
   "metadata": {},
   "outputs": [],
   "source": [
    "# Function that creates a dataframe with the number of genomes per class\n",
    "\n",
    "import pandas as pd\n",
    "import numpy as np\n",
    "import seaborn as sns\n",
    "from matplotlib.colors import LinearSegmentedColormap\n",
    "import matplotlib.pyplot as plt\n",
    "\n",
    "def genomes_per_class(df, antibiotics):\n",
    "    amounts = pd.DataFrame(data={})\n",
    "    for antibiotic in antibiotics:\n",
    "        single_amr = df[['Genome ID',antibiotic]].loc[pd.notnull(df[antibiotic])].drop_duplicates()\n",
    "        if single_amr.shape[0]==0:\n",
    "            mics = [4]\n",
    "            amount = [0]\n",
    "        else:\n",
    "            # Unique mic values\n",
    "            mics = df[antibiotic].loc[pd.notnull(df[antibiotic])].sort_values().unique()\n",
    "            amount = [len(single_amr.loc[single_amr[antibiotic]==mic]) for mic in mics]\n",
    "        amounts.append(pd.DataFrame(amount, index=mics).T)\n",
    "    amounts_df = amounts[0].append(amounts[1:len(antibiotics)], sort=False, ignore_index=True)\n",
    "    return amounts_df\n",
    "\n",
    "def susceptibility_heatmap(data, annot, antibiotics, title):\n",
    "    sns.set_theme(font_scale=.8, style='white')\n",
    "    myColors = ((0.0, 0.8, 0.0, 1.0), (0.0, 0.8, 0.8, 1.0), (0.8, 0.0, 0.0, 1.0))\n",
    "    cmap = LinearSegmentedColormap.from_list('Custom', myColors, len(myColors))\n",
    "    # Abbreviate the antibiotic names to 5 letters\n",
    "    antibiotic_abbre = {i:antibiotics[i][:5].upper() for i in range(len(antibiotics))}\n",
    "    # Number of genomes by Antibiotic and MIC.\n",
    "    data = data.rename(index=antibiotic_abbre)\n",
    "    # Set the width and height of the figure\n",
    "    plt.figure(figsize=(10,6))\n",
    "    # Add title\n",
    "    plt.title(title, fontsize=12)\n",
    "    # Heatmap showing the amount of genomes with the same MIC for each MIC, by antibiotic\n",
    "    hp = sns.heatmap(data=data, annot=annot, cmap=cmap, fmt='.4g')\n",
    "    # Manually specify colorbar labelling after it's been generated\n",
    "    colorbar = hp.collections[0].colorbar\n",
    "    colorbar.set_ticks([0.333, 1, 1.667])\n",
    "    colorbar.set_ticklabels(['Susceptible', 'Intermediate', 'Resistant'])\n",
    "    colorbar.ax.tick_params(labelsize=12)\n",
    "    # Add label for horizontal axes\n",
    "    plt.xlabel('MIC (micrograms per milliliter)', fontsize=12)\n",
    "    plt.ylabel('Antibiotic', fontsize=12)"
   ]
  },
  {
   "cell_type": "code",
   "execution_count": 14,
   "metadata": {},
   "outputs": [
    {
     "ename": "AttributeError",
     "evalue": "'DataFrame' object has no attribute 'append'",
     "output_type": "error",
     "traceback": [
      "\u001b[0;31m---------------------------------------------------------------------------\u001b[0m",
      "\u001b[0;31mAttributeError\u001b[0m                            Traceback (most recent call last)",
      "\u001b[0;32m/var/folders/wd/br8r9td54_701m8zzx7ff2nr0000gn/T/ipykernel_14464/1941849157.py\u001b[0m in \u001b[0;36m?\u001b[0;34m()\u001b[0m\n\u001b[1;32m      1\u001b[0m \u001b[0;31m# Antibiotics\u001b[0m\u001b[0;34m\u001b[0m\u001b[0;34m\u001b[0m\u001b[0m\n\u001b[1;32m      2\u001b[0m \u001b[0mantibiotics\u001b[0m \u001b[0;34m=\u001b[0m \u001b[0mmic_dframe\u001b[0m\u001b[0;34m.\u001b[0m\u001b[0mcolumns\u001b[0m\u001b[0;34m[\u001b[0m\u001b[0;34m-\u001b[0m\u001b[0;36m12\u001b[0m\u001b[0;34m:\u001b[0m\u001b[0;34m]\u001b[0m\u001b[0;34m\u001b[0m\u001b[0;34m\u001b[0m\u001b[0m\n\u001b[1;32m      3\u001b[0m \u001b[0;34m\u001b[0m\u001b[0m\n\u001b[1;32m      4\u001b[0m \u001b[0;31m# Comupute the distribution of MIC measurements\u001b[0m\u001b[0;34m\u001b[0m\u001b[0;34m\u001b[0m\u001b[0m\n\u001b[0;32m----> 5\u001b[0;31m \u001b[0mmic_distribution\u001b[0m \u001b[0;34m=\u001b[0m \u001b[0mgenomes_per_class\u001b[0m\u001b[0;34m(\u001b[0m\u001b[0mmic_dframe\u001b[0m\u001b[0;34m,\u001b[0m \u001b[0mantibiotics\u001b[0m\u001b[0;34m)\u001b[0m\u001b[0;34m\u001b[0m\u001b[0;34m\u001b[0m\u001b[0m\n\u001b[0m\u001b[1;32m      6\u001b[0m \u001b[0;34m\u001b[0m\u001b[0m\n\u001b[1;32m      7\u001b[0m \u001b[0;31m# Combine the MIC distribution and the susceptibility map\u001b[0m\u001b[0;34m\u001b[0m\u001b[0;34m\u001b[0m\u001b[0m\n\u001b[1;32m      8\u001b[0m \u001b[0mtitle\u001b[0m \u001b[0;34m=\u001b[0m \u001b[0;34m'Number of Genomes per Antibiotic and MIC'\u001b[0m\u001b[0;34m\u001b[0m\u001b[0;34m\u001b[0m\u001b[0m\n",
      "\u001b[0;32m/var/folders/wd/br8r9td54_701m8zzx7ff2nr0000gn/T/ipykernel_14464/271805728.py\u001b[0m in \u001b[0;36m?\u001b[0;34m(df, antibiotics)\u001b[0m\n\u001b[1;32m     17\u001b[0m             \u001b[0;31m# Unique mic values\u001b[0m\u001b[0;34m\u001b[0m\u001b[0;34m\u001b[0m\u001b[0m\n\u001b[1;32m     18\u001b[0m             \u001b[0mmics\u001b[0m \u001b[0;34m=\u001b[0m \u001b[0mdf\u001b[0m\u001b[0;34m[\u001b[0m\u001b[0mantibiotic\u001b[0m\u001b[0;34m]\u001b[0m\u001b[0;34m.\u001b[0m\u001b[0mloc\u001b[0m\u001b[0;34m[\u001b[0m\u001b[0mpd\u001b[0m\u001b[0;34m.\u001b[0m\u001b[0mnotnull\u001b[0m\u001b[0;34m(\u001b[0m\u001b[0mdf\u001b[0m\u001b[0;34m[\u001b[0m\u001b[0mantibiotic\u001b[0m\u001b[0;34m]\u001b[0m\u001b[0;34m)\u001b[0m\u001b[0;34m]\u001b[0m\u001b[0;34m.\u001b[0m\u001b[0msort_values\u001b[0m\u001b[0;34m(\u001b[0m\u001b[0;34m)\u001b[0m\u001b[0;34m.\u001b[0m\u001b[0munique\u001b[0m\u001b[0;34m(\u001b[0m\u001b[0;34m)\u001b[0m\u001b[0;34m\u001b[0m\u001b[0;34m\u001b[0m\u001b[0m\n\u001b[1;32m     19\u001b[0m             \u001b[0mamount\u001b[0m \u001b[0;34m=\u001b[0m \u001b[0;34m[\u001b[0m\u001b[0mlen\u001b[0m\u001b[0;34m(\u001b[0m\u001b[0msingle_amr\u001b[0m\u001b[0;34m.\u001b[0m\u001b[0mloc\u001b[0m\u001b[0;34m[\u001b[0m\u001b[0msingle_amr\u001b[0m\u001b[0;34m[\u001b[0m\u001b[0mantibiotic\u001b[0m\u001b[0;34m]\u001b[0m\u001b[0;34m==\u001b[0m\u001b[0mmic\u001b[0m\u001b[0;34m]\u001b[0m\u001b[0;34m)\u001b[0m \u001b[0;32mfor\u001b[0m \u001b[0mmic\u001b[0m \u001b[0;32min\u001b[0m \u001b[0mmics\u001b[0m\u001b[0;34m]\u001b[0m\u001b[0;34m\u001b[0m\u001b[0;34m\u001b[0m\u001b[0m\n\u001b[1;32m     20\u001b[0m         \u001b[0mamounts\u001b[0m\u001b[0;34m.\u001b[0m\u001b[0mappend\u001b[0m\u001b[0;34m(\u001b[0m\u001b[0mpd\u001b[0m\u001b[0;34m.\u001b[0m\u001b[0mDataFrame\u001b[0m\u001b[0;34m(\u001b[0m\u001b[0mamount\u001b[0m\u001b[0;34m,\u001b[0m \u001b[0mindex\u001b[0m\u001b[0;34m=\u001b[0m\u001b[0mmics\u001b[0m\u001b[0;34m)\u001b[0m\u001b[0;34m.\u001b[0m\u001b[0mT\u001b[0m\u001b[0;34m)\u001b[0m\u001b[0;34m\u001b[0m\u001b[0;34m\u001b[0m\u001b[0m\n\u001b[0;32m---> 21\u001b[0;31m     \u001b[0mamounts_df\u001b[0m \u001b[0;34m=\u001b[0m \u001b[0mamounts\u001b[0m\u001b[0;34m[\u001b[0m\u001b[0;36m0\u001b[0m\u001b[0;34m]\u001b[0m\u001b[0;34m.\u001b[0m\u001b[0mappend\u001b[0m\u001b[0;34m(\u001b[0m\u001b[0mamounts\u001b[0m\u001b[0;34m[\u001b[0m\u001b[0;36m1\u001b[0m\u001b[0;34m:\u001b[0m\u001b[0mlen\u001b[0m\u001b[0;34m(\u001b[0m\u001b[0mantibiotics\u001b[0m\u001b[0;34m)\u001b[0m\u001b[0;34m]\u001b[0m\u001b[0;34m,\u001b[0m \u001b[0msort\u001b[0m\u001b[0;34m=\u001b[0m\u001b[0;32mFalse\u001b[0m\u001b[0;34m,\u001b[0m \u001b[0mignore_index\u001b[0m\u001b[0;34m=\u001b[0m\u001b[0;32mTrue\u001b[0m\u001b[0;34m)\u001b[0m\u001b[0;34m\u001b[0m\u001b[0;34m\u001b[0m\u001b[0m\n\u001b[0m\u001b[1;32m     22\u001b[0m     \u001b[0;32mreturn\u001b[0m \u001b[0mamounts_df\u001b[0m\u001b[0;34m\u001b[0m\u001b[0;34m\u001b[0m\u001b[0m\n",
      "\u001b[0;32m/Applications/miniconda3/lib/python3.11/site-packages/pandas/core/generic.py\u001b[0m in \u001b[0;36m?\u001b[0;34m(self, name)\u001b[0m\n\u001b[1;32m   6289\u001b[0m             \u001b[0;32mand\u001b[0m \u001b[0mname\u001b[0m \u001b[0;32mnot\u001b[0m \u001b[0;32min\u001b[0m \u001b[0mself\u001b[0m\u001b[0;34m.\u001b[0m\u001b[0m_accessors\u001b[0m\u001b[0;34m\u001b[0m\u001b[0;34m\u001b[0m\u001b[0m\n\u001b[1;32m   6290\u001b[0m             \u001b[0;32mand\u001b[0m \u001b[0mself\u001b[0m\u001b[0;34m.\u001b[0m\u001b[0m_info_axis\u001b[0m\u001b[0;34m.\u001b[0m\u001b[0m_can_hold_identifiers_and_holds_name\u001b[0m\u001b[0;34m(\u001b[0m\u001b[0mname\u001b[0m\u001b[0;34m)\u001b[0m\u001b[0;34m\u001b[0m\u001b[0;34m\u001b[0m\u001b[0m\n\u001b[1;32m   6291\u001b[0m         ):\n\u001b[1;32m   6292\u001b[0m             \u001b[0;32mreturn\u001b[0m \u001b[0mself\u001b[0m\u001b[0;34m[\u001b[0m\u001b[0mname\u001b[0m\u001b[0;34m]\u001b[0m\u001b[0;34m\u001b[0m\u001b[0;34m\u001b[0m\u001b[0m\n\u001b[0;32m-> 6293\u001b[0;31m         \u001b[0;32mreturn\u001b[0m \u001b[0mobject\u001b[0m\u001b[0;34m.\u001b[0m\u001b[0m__getattribute__\u001b[0m\u001b[0;34m(\u001b[0m\u001b[0mself\u001b[0m\u001b[0;34m,\u001b[0m \u001b[0mname\u001b[0m\u001b[0;34m)\u001b[0m\u001b[0;34m\u001b[0m\u001b[0;34m\u001b[0m\u001b[0m\n\u001b[0m",
      "\u001b[0;31mAttributeError\u001b[0m: 'DataFrame' object has no attribute 'append'"
     ]
    }
   ],
   "source": [
    "# Antibiotics\n",
    "antibiotics = mic_dframe.columns[-12:]\n",
    "\n",
    "# Comupute the distribution of MIC measurements\n",
    "mic_distribution = genomes_per_class(mic_dframe, antibiotics)\n",
    "\n",
    "# Combine the MIC distribution and the susceptibility map\n",
    "title = 'Number of Genomes per Antibiotic and MIC'\n",
    "susceptibility_heatmap(data=suscep_classes, annot=mic_distribution, antibiotics=antibiotics, title=title)"
   ]
  }
 ],
 "metadata": {
  "kernelspec": {
   "display_name": "base",
   "language": "python",
   "name": "python3"
  },
  "language_info": {
   "codemirror_mode": {
    "name": "ipython",
    "version": 3
   },
   "file_extension": ".py",
   "mimetype": "text/x-python",
   "name": "python",
   "nbconvert_exporter": "python",
   "pygments_lexer": "ipython3",
   "version": "3.11.8"
  }
 },
 "nbformat": 4,
 "nbformat_minor": 2
}
