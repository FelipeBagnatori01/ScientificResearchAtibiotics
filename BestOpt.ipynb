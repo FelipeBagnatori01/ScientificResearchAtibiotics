{
 "cells": [
  {
   "cell_type": "code",
   "execution_count": null,
   "metadata": {},
   "outputs": [],
   "source": [
    "def prob_to_onehot(y):\n",
    "    for i in range(0, y.shape[0]):\n",
    "        greater = 0\n",
    "        pos = 0\n",
    "        for j in range(0, y.shape[1]):\n",
    "            if y[i][j] >= greater:\n",
    "                greater = y[i][j]\n",
    "                pos = j\n",
    "            y[i][j] = 0.0\n",
    "        y[i][pos] = 1.0\n",
    "    return y"
   ]
  },
  {
   "cell_type": "code",
   "execution_count": null,
   "metadata": {},
   "outputs": [],
   "source": [
    "# Load from pkl files\n",
    "import pandas as pd\n",
    "import pickle\n",
    "import pandas as pd\n",
    "import numpy as np\n",
    "import seaborn as sns\n",
    "import time\n",
    "from sklearn.preprocessing import StandardScaler\n",
    "from sklearn.model_selection import train_test_split\n",
    "import matplotlib.pyplot as plt\n",
    "\n",
    "\n",
    "with open('./Input/8-mers/mic_dframe.pkl', 'rb') as file:\n",
    "    mic_dframe = pickle.load(file)\n",
    "with open('./Input/8-mers/suscep_classes.pkl', 'rb') as file:\n",
    "    suscep_classes = pd.read_pickle(file)"
   ]
  },
  {
   "cell_type": "code",
   "execution_count": null,
   "metadata": {},
   "outputs": [],
   "source": [
    "from sklearn.feature_selection import SelectKBest\n",
    "from sklearn.feature_selection import chi2\n",
    "\n",
    "antibiotics = mic_dframe.columns[-12:]\n",
    "\n",
    "def best_N_features(target_df, antibiotic, N):\n",
    "    path = './input/8-mers/counts/'\n",
    "    genome_ids = target_df['Genome ID'].loc[pd.notnull(target_df[antibiotic])].values\n",
    "    X = np.array([np.load(path + genome_id + '.npy') for genome_id in genome_ids])\n",
    "    y = target_df[antibiotic].loc[pd.notnull(target_df[antibiotic])].values\n",
    "    n_best = SelectKBest(chi2, k=N)\n",
    "    X_new = n_best.fit_transform(X, y*10**5)\n",
    "    kmers = np.load('./input/8-mers/kmers_basis.npy')\n",
    "    selected_kmers = [column[0]  for column in zip(kmers, n_best.get_support()) if column[1]]\n",
    "    #scores = k_best.fit(X,y).scores_\n",
    "    best_feature_df = pd.DataFrame(X_new, columns = selected_kmers)\n",
    "    return best_feature_df"
   ]
  },
  {
   "cell_type": "code",
   "execution_count": null,
   "metadata": {},
   "outputs": [],
   "source": []
  }
 ],
 "metadata": {
  "kernelspec": {
   "display_name": "base",
   "language": "python",
   "name": "python3"
  },
  "language_info": {
   "name": "python",
   "version": "3.11.8"
  }
 },
 "nbformat": 4,
 "nbformat_minor": 2
}
